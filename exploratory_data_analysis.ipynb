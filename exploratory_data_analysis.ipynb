{
 "cells": [
  {
   "cell_type": "markdown",
   "metadata": {},
   "source": [
    "\n",
    "# Checklist\n",
    "1. Fraome the problem  and look at the big picture\n",
    "2. Get the data\n",
    "3. Explore and visualize the data to gain insights\n",
    "4. Prepare the data to better expose the underlying patterns to machine learning algorithm\n",
    "5. Explore many modesl; Select a model and train it\n",
    "6. Fine-tune the model\n",
    "7. Present your solution\n",
    "8. Launch, monitor and maintain your system\n",
    "\n"
   ]
  },
  {
   "cell_type": "code",
   "execution_count": null,
   "metadata": {},
   "outputs": [],
   "source": [
    "# todo"
   ]
  }
 ],
 "metadata": {
  "language_info": {
   "name": "python"
  }
 },
 "nbformat": 4,
 "nbformat_minor": 2
}
